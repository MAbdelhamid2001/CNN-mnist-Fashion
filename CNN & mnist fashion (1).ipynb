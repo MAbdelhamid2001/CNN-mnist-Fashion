{
 "cells": [
  {
   "cell_type": "code",
   "execution_count": 26,
   "id": "1e207906",
   "metadata": {},
   "outputs": [],
   "source": [
    "import tensorflow as tf\n",
    "from matplotlib import pyplot as plt\n",
    "import numpy as np"
   ]
  },
  {
   "cell_type": "code",
   "execution_count": 27,
   "id": "5be9df02",
   "metadata": {},
   "outputs": [],
   "source": [
    "import tensorflow as tf"
   ]
  },
  {
   "cell_type": "code",
   "execution_count": 28,
   "id": "b091c46b",
   "metadata": {},
   "outputs": [
    {
     "data": {
      "text/plain": [
       "'2.3.0'"
      ]
     },
     "execution_count": 28,
     "metadata": {},
     "output_type": "execute_result"
    }
   ],
   "source": [
    "tf.__version__"
   ]
  },
  {
   "cell_type": "code",
   "execution_count": 29,
   "id": "0741243b",
   "metadata": {},
   "outputs": [],
   "source": [
    "fashion_mnist=tf.keras.datasets.fashion_mnist\n",
    "\n",
    "(ximg_train,yimg_train),(ximg_test,yimg_test)=fashion_mnist.load_data()"
   ]
  },
  {
   "cell_type": "code",
   "execution_count": 30,
   "id": "63903fa0",
   "metadata": {},
   "outputs": [],
   "source": [
    "ximg_train=ximg_train/255.0\n",
    "ximg_test=ximg_test/255.0\n",
    "class_names=['T-shirt/top','trouser','pullover','dress','coat','sandal','shirt','sneaker','bag','ankle boot']"
   ]
  },
  {
   "cell_type": "code",
   "execution_count": 31,
   "id": "9126ebd0",
   "metadata": {},
   "outputs": [
    {
     "data": {
      "image/png": "[encoded data removed]",
      "text/plain": [
       "<Figure size 432x288 with 1 Axes>"
      ]
     },
     "metadata": {
      "needs_background": "light"
     },
     "output_type": "display_data"
    }
   ],
   "source": [
    "plt.imshow(ximg_train[0])\n",
    "plt.xlabel(class_names[yimg_train[0]])\n",
    "plt.show()"
   ]
  },
  {
   "cell_type": "code",
   "execution_count": 32,
   "id": "a9f944f1",
   "metadata": {},
   "outputs": [
    {
     "data": {
      "image/png": "[encoded data removed]",
      "text/plain": [
       "<Figure size 432x288 with 2 Axes>"
      ]
     },
     "metadata": {
      "needs_background": "light"
     },
     "output_type": "display_data"
    }
   ],
   "source": [
    "plt.imshow(ximg_train[0],cmap='gray')\n",
    "plt.colorbar()\n",
    "plt.show()"
   ]
  },
  {
   "cell_type": "code",
   "execution_count": 33,
   "id": "deefac7f",
   "metadata": {},
   "outputs": [],
   "source": [
    "model=tf.keras.models.Sequential([tf.keras.layers.Flatten(  input_shape=(28,28) ),\n",
    "                                 tf.keras.layers.Dense(512,activation=tf.nn.relu),\n",
    "                                 tf.keras.layers.Dropout(0.2),\n",
    "                                 tf.keras.layers.Dense(10,activation=tf.nn.sigmoid)])"
   ]
  },
  {
   "cell_type": "code",
   "execution_count": 34,
   "id": "4358a1a6",
   "metadata": {},
   "outputs": [],
   "source": [
    "model.compile(optimizer='adam',\n",
    "             loss='sparse_categorical_crossentropy',metrics='acc')"
   ]
  },
  {
   "cell_type": "code",
   "execution_count": 35,
   "id": "442877c8",
   "metadata": {},
   "outputs": [
    {
     "name": "stdout",
     "output_type": "stream",
     "text": [
      "Epoch 1/10\n",
      "1500/1500 [==============================] - 5s 4ms/step - loss: 0.5405 - acc: 0.8081 - val_loss: 0.4180 - val_acc: 0.8489\n",
      "Epoch 2/10\n",
      "1500/1500 [==============================] - 6s 4ms/step - loss: 0.3988 - acc: 0.8550 - val_loss: 0.4191 - val_acc: 0.8533\n",
      "Epoch 3/10\n",
      "1500/1500 [==============================] - 6s 4ms/step - loss: 0.3622 - acc: 0.8660 - val_loss: 0.3683 - val_acc: 0.8666\n",
      "Epoch 4/10\n",
      "1500/1500 [==============================] - 6s 4ms/step - loss: 0.3390 - acc: 0.8759 - val_loss: 0.3474 - val_acc: 0.8737\n",
      "Epoch 5/10\n",
      "1500/1500 [==============================] - 7s 5ms/step - loss: 0.3240 - acc: 0.8792 - val_loss: 0.3263 - val_acc: 0.8828\n",
      "Epoch 6/10\n",
      "1500/1500 [==============================] - 6s 4ms/step - loss: 0.3093 - acc: 0.8854 - val_loss: 0.3662 - val_acc: 0.8630\n",
      "Epoch 7/10\n",
      "1500/1500 [==============================] - 7s 5ms/step - loss: 0.2980 - acc: 0.8890 - val_loss: 0.3256 - val_acc: 0.8844\n",
      "Epoch 8/10\n",
      "1500/1500 [==============================] - 6s 4ms/step - loss: 0.2855 - acc: 0.8935 - val_loss: 0.3182 - val_acc: 0.8872\n",
      "Epoch 9/10\n",
      "1500/1500 [==============================] - 8s 5ms/step - loss: 0.2771 - acc: 0.8957 - val_loss: 0.3230 - val_acc: 0.8858\n",
      "Epoch 10/10\n",
      "1500/1500 [==============================] - 7s 5ms/step - loss: 0.2689 - acc: 0.9001 - val_loss: 0.3145 - val_acc: 0.8914\n"
     ]
    }
   ],
   "source": [
    "history=model.fit(ximg_train,yimg_train,epochs=10,verbose=1, validation_split=0.2, shuffle=True)\n"
   ]
  },
  {
   "cell_type": "code",
   "execution_count": 36,
   "id": "719b2620",
   "metadata": {},
   "outputs": [],
   "source": [
    "pred=model.predict(ximg_test)\n"
   ]
  },
  {
   "cell_type": "code",
   "execution_count": 37,
   "id": "b1f58550",
   "metadata": {},
   "outputs": [
    {
     "name": "stdout",
     "output_type": "stream",
     "text": [
      "313/313 [==============================] - 1s 2ms/step - loss: 0.3538 - acc: 0.8799\n"
     ]
    },
    {
     "data": {
      "text/plain": [
       "[0.3537791669368744, 0.8798999786376953]"
      ]
     },
     "execution_count": 37,
     "metadata": {},
     "output_type": "execute_result"
    }
   ],
   "source": [
    "model.evaluate(ximg_test,yimg_test)\n"
   ]
  },
  {
   "cell_type": "code",
   "execution_count": 38,
   "id": "a37e02e4",
   "metadata": {
    "scrolled": true
   },
   "outputs": [
    {
     "data": {
      "image/png": "[encoded data removed]",
      "text/plain": [
       "<Figure size 432x288 with 1 Axes>"
      ]
     },
     "metadata": {
      "needs_background": "light"
     },
     "output_type": "display_data"
    },
    {
     "name": "stdout",
     "output_type": "stream",
     "text": [
      "sneaker\n"
     ]
    }
   ],
   "source": [
    "plt.imshow(ximg_test[9],cmap=plt.cm.binary)#cmap means how the imgae to be presented\n",
    "plt.show()\n",
    "print(class_names[np.argmax(pred[9])]) #argmax gets the max value in the row"
   ]
  },
  {
   "cell_type": "code",
   "execution_count": 39,
   "id": "a3651150",
   "metadata": {},
   "outputs": [
    {
     "data": {
      "image/png": "[encoded data removed]",
      "text/plain": [
       "<Figure size 432x288 with 1 Axes>"
      ]
     },
     "metadata": {
      "needs_background": "light"
     },
     "output_type": "display_data"
    }
   ],
   "source": [
    "from matplotlib import pyplot as plt\n",
    "plt.plot(history.history['loss'])\n",
    "plt.plot(history.history['val_loss'])\n",
    "plt.title('model loss')\n",
    "plt.ylabel('loss')\n",
    "plt.xlabel('epoch')\n",
    "plt.legend(['train', 'val'], loc='upper left')\n",
    "plt.show()"
   ]
  },
  {
   "cell_type": "code",
   "execution_count": null,
   "id": "1698c3bd",
   "metadata": {},
   "outputs": [],
   "source": []
  }
 ],
 "metadata": {
  "kernelspec": {
   "display_name": "Python 3",
   "language": "python",
   "name": "python3"
  },
  "language_info": {
   "codemirror_mode": {
    "name": "ipython",
    "version": 3
   },
   "file_extension": ".py",
   "mimetype": "text/x-python",
   "name": "python",
   "nbconvert_exporter": "python",
   "pygments_lexer": "ipython3",
   "version": "3.8.8"
  }
 },
 "nbformat": 4,
 "nbformat_minor": 5
}
